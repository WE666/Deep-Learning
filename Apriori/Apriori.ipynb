{
 "cells": [
  {
   "cell_type": "code",
   "execution_count": 1,
   "metadata": {},
   "outputs": [],
   "source": [
    "import apriori\n",
    "dataSetNum = apriori.loadDataSet()"
   ]
  },
  {
   "cell_type": "code",
   "execution_count": 2,
   "metadata": {},
   "outputs": [
    {
     "data": {
      "text/plain": [
       "[[1, 3, 4], [2, 3, 5], [1, 2, 3, 5], [2, 5]]"
      ]
     },
     "execution_count": 2,
     "metadata": {},
     "output_type": "execute_result"
    }
   ],
   "source": [
    "dataSetNum"
   ]
  },
  {
   "cell_type": "code",
   "execution_count": 3,
   "metadata": {},
   "outputs": [
    {
     "data": {
      "text/plain": [
       "[frozenset({1}),\n",
       " frozenset({2}),\n",
       " frozenset({3}),\n",
       " frozenset({4}),\n",
       " frozenset({5})]"
      ]
     },
     "execution_count": 3,
     "metadata": {},
     "output_type": "execute_result"
    }
   ],
   "source": [
    "Cnum = list(apriori.createC1(dataSetNum))\n",
    "Cnum"
   ]
  },
  {
   "cell_type": "code",
   "execution_count": 4,
   "metadata": {},
   "outputs": [
    {
     "data": {
      "text/plain": [
       "[{1, 3, 4}, {2, 3, 5}, {1, 2, 3, 5}, {2, 5}]"
      ]
     },
     "execution_count": 4,
     "metadata": {},
     "output_type": "execute_result"
    }
   ],
   "source": [
    "D = list(map(set, dataSetNum))\n",
    "D"
   ]
  },
  {
   "cell_type": "code",
   "execution_count": 5,
   "metadata": {},
   "outputs": [
    {
     "name": "stdout",
     "output_type": "stream",
     "text": [
      "numItems:\n",
      "4.0\n",
      "frozenset({1})\n",
      "0.5\n",
      "frozenset({3})\n",
      "0.75\n",
      "frozenset({4})\n",
      "0.25\n",
      "frozenset({2})\n",
      "0.75\n",
      "frozenset({5})\n",
      "0.75\n"
     ]
    },
    {
     "data": {
      "text/plain": [
       "[frozenset({5}), frozenset({2}), frozenset({3})]"
      ]
     },
     "execution_count": 5,
     "metadata": {},
     "output_type": "execute_result"
    }
   ],
   "source": [
    "L1, suppData = apriori.scanD(D, Cnum, 0.6)\n",
    "L1"
   ]
  },
  {
   "cell_type": "markdown",
   "metadata": {},
   "source": [
    "######################\n",
    "More complex examples:"
   ]
  },
  {
   "cell_type": "code",
   "execution_count": 2,
   "metadata": {},
   "outputs": [],
   "source": [
    "dataSet = [[\"cakes\", \"beer\", \"bread\"],\n",
    "           [\"cakes\", \"beer\", \"bread\", \"donuts\"],\n",
    "           [\"beer\", \"bread\", \"pizza\"], \n",
    "           [\"cakes\", \"bread\", \"donuts\", \"pizza\"],\n",
    "           [\"donuts\", \"pizza\"]]"
   ]
  },
  {
   "cell_type": "code",
   "execution_count": 3,
   "metadata": {},
   "outputs": [
    {
     "data": {
      "text/plain": [
       "[['cakes', 'beer', 'bread'],\n",
       " ['cakes', 'beer', 'bread', 'donuts'],\n",
       " ['beer', 'bread', 'pizza'],\n",
       " ['cakes', 'bread', 'donuts', 'pizza'],\n",
       " ['donuts', 'pizza']]"
      ]
     },
     "execution_count": 3,
     "metadata": {},
     "output_type": "execute_result"
    }
   ],
   "source": [
    "dataSet"
   ]
  },
  {
   "cell_type": "code",
   "execution_count": 4,
   "metadata": {},
   "outputs": [
    {
     "data": {
      "text/plain": [
       "[frozenset({'beer'}),\n",
       " frozenset({'bread'}),\n",
       " frozenset({'cakes'}),\n",
       " frozenset({'donuts'}),\n",
       " frozenset({'pizza'})]"
      ]
     },
     "execution_count": 4,
     "metadata": {},
     "output_type": "execute_result"
    }
   ],
   "source": [
    "C1 = apriori.createC1(dataSet)\n",
    "list(C1)"
   ]
  },
  {
   "cell_type": "code",
   "execution_count": 5,
   "metadata": {},
   "outputs": [],
   "source": [
    "C2 = [frozenset({'cakes', 'beer'}),\n",
    " frozenset({'cakes', 'beer', 'bread'}),\n",
    " frozenset({'cakes', 'beer', 'bread', 'donuts'})]"
   ]
  },
  {
   "cell_type": "code",
   "execution_count": 6,
   "metadata": {},
   "outputs": [],
   "source": [
    "C3 =[frozenset({'beer', 'bread'}),\n",
    " frozenset({'cakes', 'beer', 'bread'}),\n",
    " frozenset({'cakes', 'beer', 'bread', 'donuts'}),\n",
    " frozenset({'beer', 'bread', 'pizza'})] "
   ]
  },
  {
   "cell_type": "code",
   "execution_count": 11,
   "metadata": {},
   "outputs": [],
   "source": [
    "D = list(map(set, dataSet))"
   ]
  },
  {
   "cell_type": "code",
   "execution_count": 12,
   "metadata": {},
   "outputs": [
    {
     "data": {
      "text/plain": [
       "[{'beer', 'bread', 'cakes'},\n",
       " {'beer', 'bread', 'cakes', 'donuts'},\n",
       " {'beer', 'bread', 'pizza'},\n",
       " {'bread', 'cakes', 'donuts', 'pizza'},\n",
       " {'donuts', 'pizza'}]"
      ]
     },
     "execution_count": 12,
     "metadata": {},
     "output_type": "execute_result"
    }
   ],
   "source": [
    "D"
   ]
  },
  {
   "cell_type": "markdown",
   "metadata": {},
   "source": [
    "C2 = [frozenset({'cakes', 'beer'}),\n",
    " frozenset({'cakes', 'beer', 'bread'}),\n",
    " frozenset({'cakes', 'beer', 'bread', 'donuts'})]"
   ]
  },
  {
   "cell_type": "code",
   "execution_count": 13,
   "metadata": {},
   "outputs": [
    {
     "name": "stdout",
     "output_type": "stream",
     "text": [
      "numItems:\n",
      "5.0\n",
      "frozenset({'beer', 'cakes'})\n",
      "0.4\n",
      "frozenset({'beer', 'bread', 'cakes'})\n",
      "0.4\n",
      "frozenset({'donuts', 'beer', 'bread', 'cakes'})\n",
      "0.2\n"
     ]
    },
    {
     "data": {
      "text/plain": [
       "[frozenset({'beer', 'bread', 'cakes', 'donuts'}),\n",
       " frozenset({'beer', 'bread', 'cakes'}),\n",
       " frozenset({'beer', 'cakes'})]"
      ]
     },
     "execution_count": 13,
     "metadata": {},
     "output_type": "execute_result"
    }
   ],
   "source": [
    "L2, suppData = apriori.scanD(D, C2, 0)\n",
    "L2"
   ]
  },
  {
   "cell_type": "code",
   "execution_count": 22,
   "metadata": {},
   "outputs": [
    {
     "name": "stdout",
     "output_type": "stream",
     "text": [
      "numItems:\n",
      "5.0\n",
      "frozenset({'bread', 'beer'})\n",
      "0.6\n",
      "frozenset({'cakes', 'bread', 'beer'})\n",
      "0.4\n",
      "frozenset({'cakes', 'bread', 'beer', 'donuts'})\n",
      "0.2\n",
      "frozenset({'pizza', 'bread', 'beer'})\n",
      "0.2\n"
     ]
    },
    {
     "data": {
      "text/plain": [
       "[frozenset({'beer', 'bread', 'pizza'}),\n",
       " frozenset({'beer', 'bread', 'cakes', 'donuts'}),\n",
       " frozenset({'beer', 'bread', 'cakes'}),\n",
       " frozenset({'beer', 'bread'})]"
      ]
     },
     "execution_count": 22,
     "metadata": {},
     "output_type": "execute_result"
    }
   ],
   "source": [
    "L3, suppData = apriori.scanD(D, C3, 0)\n",
    "L3"
   ]
  }
 ],
 "metadata": {
  "kernelspec": {
   "display_name": "Python 3",
   "language": "python",
   "name": "python3"
  },
  "language_info": {
   "codemirror_mode": {
    "name": "ipython",
    "version": 3
   },
   "file_extension": ".py",
   "mimetype": "text/x-python",
   "name": "python",
   "nbconvert_exporter": "python",
   "pygments_lexer": "ipython3",
   "version": "3.6.5"
  }
 },
 "nbformat": 4,
 "nbformat_minor": 1
}
